{
 "cells": [
  {
   "cell_type": "markdown",
   "id": "3b55e580-0908-4412-a87c-b222c7c140a9",
   "metadata": {
    "tags": []
   },
   "source": [
    "# 0.0 Imports"
   ]
  },
  {
   "cell_type": "code",
   "execution_count": 3,
   "id": "59412f16-b70a-4f79-95c0-4c1ec22c98f3",
   "metadata": {
    "tags": []
   },
   "outputs": [],
   "source": [
    "import pandas as pd\n",
    "import numpy as np\n",
    "\n",
    "from statsmodels.stats.gof import chisquare_effectsize\n",
    "from statsmodels.stats.power import TTestIndPower\n",
    "from statsmodels.sandbox.stats.multicomp import multipletests\n",
    "\n",
    "from scipy import stats\n",
    "from itertools import combinations\n",
    "from IPython.display import Image"
   ]
  },
  {
   "cell_type": "markdown",
   "id": "1c5cafd4-7ee6-4502-96e1-135a518bec79",
   "metadata": {},
   "source": [
    "## 0.1 Loading Data"
   ]
  },
  {
   "cell_type": "code",
   "execution_count": 4,
   "id": "f8de246f-e171-4d0e-a0bd-35735f8ea13e",
   "metadata": {
    "tags": []
   },
   "outputs": [
    {
     "data": {
      "text/html": [
       "<div>\n",
       "<style scoped>\n",
       "    .dataframe tbody tr th:only-of-type {\n",
       "        vertical-align: middle;\n",
       "    }\n",
       "\n",
       "    .dataframe tbody tr th {\n",
       "        vertical-align: top;\n",
       "    }\n",
       "\n",
       "    .dataframe thead th {\n",
       "        text-align: right;\n",
       "    }\n",
       "</style>\n",
       "<table border=\"1\" class=\"dataframe\">\n",
       "  <thead>\n",
       "    <tr style=\"text-align: right;\">\n",
       "      <th></th>\n",
       "      <th>variant</th>\n",
       "      <th>visits</th>\n",
       "      <th>clicks_all</th>\n",
       "      <th>clicks_link</th>\n",
       "      <th>conversion</th>\n",
       "    </tr>\n",
       "  </thead>\n",
       "  <tbody>\n",
       "    <tr>\n",
       "      <th>0</th>\n",
       "      <td>interact</td>\n",
       "      <td>10283</td>\n",
       "      <td>3714</td>\n",
       "      <td>42</td>\n",
       "      <td>0.011309</td>\n",
       "    </tr>\n",
       "    <tr>\n",
       "      <th>1</th>\n",
       "      <td>connect</td>\n",
       "      <td>2742</td>\n",
       "      <td>1587</td>\n",
       "      <td>53</td>\n",
       "      <td>0.033396</td>\n",
       "    </tr>\n",
       "    <tr>\n",
       "      <th>2</th>\n",
       "      <td>learn</td>\n",
       "      <td>2747</td>\n",
       "      <td>1652</td>\n",
       "      <td>21</td>\n",
       "      <td>0.012712</td>\n",
       "    </tr>\n",
       "    <tr>\n",
       "      <th>3</th>\n",
       "      <td>help</td>\n",
       "      <td>3180</td>\n",
       "      <td>1717</td>\n",
       "      <td>38</td>\n",
       "      <td>0.022132</td>\n",
       "    </tr>\n",
       "    <tr>\n",
       "      <th>4</th>\n",
       "      <td>services</td>\n",
       "      <td>2064</td>\n",
       "      <td>1348</td>\n",
       "      <td>45</td>\n",
       "      <td>0.033383</td>\n",
       "    </tr>\n",
       "  </tbody>\n",
       "</table>\n",
       "</div>"
      ],
      "text/plain": [
       "    variant  visits  clicks_all  clicks_link  conversion\n",
       "0  interact   10283        3714           42    0.011309\n",
       "1   connect    2742        1587           53    0.033396\n",
       "2     learn    2747        1652           21    0.012712\n",
       "3      help    3180        1717           38    0.022132\n",
       "4  services    2064        1348           45    0.033383"
      ]
     },
     "execution_count": 4,
     "metadata": {},
     "output_type": "execute_result"
    }
   ],
   "source": [
    "d = {'variant': ['interact', 'connect', 'learn', 'help', 'services'],\n",
    "     'visits': [10283, 2742, 2747, 3180, 2064],\n",
    "     'clicks_all': [3714, 1587, 1652, 1717, 1348],\n",
    "     'clicks_link': [42, 53, 21, 38, 45]}\n",
    "\n",
    "data = pd.DataFrame(d)\n",
    "data['conversion'] = data['clicks_link']/data['clicks_all']\n",
    "\n",
    "data"
   ]
  },
  {
   "cell_type": "markdown",
   "id": "4f0282d2-e589-4c58-bd16-dc4b5dea660f",
   "metadata": {},
   "source": [
    "# 1.0 Design do experimento"
   ]
  },
  {
   "cell_type": "markdown",
   "id": "18ba72c8-3a08-4bda-a867-7420abc1be73",
   "metadata": {},
   "source": [
    "- H0: Não há diferença na métrica escolhida nas variantes\n",
    "- H1: Há diferença na métrica escolhida nas variantes\n",
    "- Métrica de avaliação: CTR (Click-Through Rate) -> 'conversion'"
   ]
  },
  {
   "cell_type": "code",
   "execution_count": 5,
   "id": "539a640d-9853-4117-8e98-f7918bb735df",
   "metadata": {
    "tags": []
   },
   "outputs": [
    {
     "data": {
      "text/plain": [
       "[0.2, 0.2, 0.2, 0.2, 0.2]"
      ]
     },
     "execution_count": 5,
     "metadata": {},
     "output_type": "execute_result"
    }
   ],
   "source": [
    "# Nível de significância\n",
    "significance = 0.05\n",
    "\n",
    "# Nível de confiança\n",
    "confidence = 0.95\n",
    "\n",
    "# Poder estatístico\n",
    "power = 0.80\n",
    "\n",
    "k = len(data['clicks_all'])\n",
    "\n",
    "# Distribuição da probabilidade na hipotese nula\n",
    "expected_dist = [1/k]*k \n",
    "expected_dist"
   ]
  },
  {
   "cell_type": "code",
   "execution_count": 6,
   "id": "bcb51be0-ec2d-44cb-8b2f-88cc3c15e55a",
   "metadata": {
    "tags": []
   },
   "outputs": [
    {
     "data": {
      "text/plain": [
       "0    0.211055\n",
       "1    0.266332\n",
       "2    0.105528\n",
       "3    0.190955\n",
       "4    0.226131\n",
       "Name: clicks_link, dtype: float64"
      ]
     },
     "execution_count": 6,
     "metadata": {},
     "output_type": "execute_result"
    }
   ],
   "source": [
    "# Distribuição da probabilidade atual\n",
    "actual_dist = data['clicks_link']/data['clicks_link'].sum()\n",
    "actual_dist"
   ]
  },
  {
   "cell_type": "code",
   "execution_count": 11,
   "id": "d88f1c72-ca7e-4348-ad68-80299f623080",
   "metadata": {
    "tags": []
   },
   "outputs": [
    {
     "name": "stdout",
     "output_type": "stream",
     "text": [
      "Tamanho de Amostra Mínimo por Variante: 222\n",
      "Tamanho de Amostra Total: 1110\n"
     ]
    }
   ],
   "source": [
    "# tamanho do efeito - Efeito Qui Quadrado\n",
    "effect_size = chisquare_effectsize(expected_dist, actual_dist)\n",
    "\n",
    "# Tamanho da amostra para uma variante\n",
    "sample_size = TTestIndPower().solve_power(\n",
    "    effect_size=effect_size,\n",
    "    power=power,\n",
    "    alpha=significance\n",
    ")\n",
    "\n",
    "sample_size = np.ceil(sample_size).astype(int)\n",
    "\n",
    "print(f'Tamanho de Amostra Mínimo por Variante: {sample_size}')\n",
    "print(f'Tamanho de Amostra Total: {sample_size * 5}')"
   ]
  },
  {
   "cell_type": "markdown",
   "id": "e7025279-bb2f-4104-9734-54d44ea5ccc3",
   "metadata": {},
   "source": [
    "# 2.0 Método Chi-Squared"
   ]
  },
  {
   "cell_type": "code",
   "execution_count": 12,
   "id": "688a3ecc-e93b-4b8e-b421-4ca6b706dfb5",
   "metadata": {
    "tags": []
   },
   "outputs": [],
   "source": [
    "# calculando clicks que não foram no link\n",
    "data['no_clicks_link'] = data['clicks_all'] - data['clicks_link']\n",
    "df = data[['variant', 'no_clicks_link', 'clicks_link']]\n",
    "\n",
    "# criando a tabela de contingência\n",
    "df = df.set_index('variant')"
   ]
  },
  {
   "cell_type": "code",
   "execution_count": 13,
   "id": "d9dfb6c9-89db-422e-a8f2-e47ceabc7b84",
   "metadata": {
    "tags": []
   },
   "outputs": [
    {
     "name": "stdout",
     "output_type": "stream",
     "text": [
      "Chi-Squared: 46.33660181942126 - p-value: 2.0959498129984563e-09\n"
     ]
    }
   ],
   "source": [
    "chi2, pvalue, dof, expected = stats.chi2_contingency(df)\n",
    "print(f'Chi-Squared: {chi2} - p-value: {pvalue}')"
   ]
  },
  {
   "cell_type": "markdown",
   "id": "c79eceee-2232-46f4-92cf-36866b007c19",
   "metadata": {},
   "source": [
    "- Visto o p-valor extremamente pequeno, é válido afirmar que há diferença entre as variantes e a hipótese nula é rejeitada."
   ]
  },
  {
   "cell_type": "markdown",
   "id": "74a8bd44-a32d-4fad-93d6-34dc505a5c41",
   "metadata": {},
   "source": [
    "# 3.0 Post-hoc Testing"
   ]
  },
  {
   "cell_type": "code",
   "execution_count": 14,
   "id": "dc0c576b-ae69-4f77-8b6d-69f6341d5302",
   "metadata": {
    "tags": []
   },
   "outputs": [],
   "source": [
    "all_combinations = list(combinations(df.index, 2))\n",
    "p_values = []\n",
    "\n",
    "# Aplicando o teste de qui quadrado para cada combinação possivel\n",
    "for comb in all_combinations:\n",
    "    new_df = df[(df.index == comb[0]) | (df.index == comb[1])]\n",
    "    chi2, pvalue, dof, ex = stats.chi2_contingency(new_df)\n",
    "    p_values.append(pvalue)\n",
    "    \n",
    "# Corrigindo o p-valor pela Correção de Bonferroni\n",
    "reject_list, corret_p_values = multipletests(p_values, method='bonferroni')[:2]"
   ]
  },
  {
   "cell_type": "code",
   "execution_count": 15,
   "id": "4e685959-727c-407c-a60a-e578f4faf9d9",
   "metadata": {
    "tags": []
   },
   "outputs": [
    {
     "data": {
      "text/html": [
       "<div>\n",
       "<style scoped>\n",
       "    .dataframe tbody tr th:only-of-type {\n",
       "        vertical-align: middle;\n",
       "    }\n",
       "\n",
       "    .dataframe tbody tr th {\n",
       "        vertical-align: top;\n",
       "    }\n",
       "\n",
       "    .dataframe thead th {\n",
       "        text-align: right;\n",
       "    }\n",
       "</style>\n",
       "<table border=\"1\" class=\"dataframe\">\n",
       "  <thead>\n",
       "    <tr style=\"text-align: right;\">\n",
       "      <th></th>\n",
       "      <th>combinations</th>\n",
       "      <th>original_pvalue</th>\n",
       "      <th>correted_pvalue</th>\n",
       "      <th>reject</th>\n",
       "    </tr>\n",
       "  </thead>\n",
       "  <tbody>\n",
       "    <tr>\n",
       "      <th>0</th>\n",
       "      <td>(interact, connect)</td>\n",
       "      <td>5.367677e-08</td>\n",
       "      <td>5.367677e-07</td>\n",
       "      <td>True</td>\n",
       "    </tr>\n",
       "    <tr>\n",
       "      <th>1</th>\n",
       "      <td>(interact, learn)</td>\n",
       "      <td>7.616981e-01</td>\n",
       "      <td>1.000000e+00</td>\n",
       "      <td>False</td>\n",
       "    </tr>\n",
       "    <tr>\n",
       "      <th>2</th>\n",
       "      <td>(interact, help)</td>\n",
       "      <td>3.103059e-03</td>\n",
       "      <td>3.103059e-02</td>\n",
       "      <td>True</td>\n",
       "    </tr>\n",
       "    <tr>\n",
       "      <th>3</th>\n",
       "      <td>(interact, services)</td>\n",
       "      <td>1.798089e-07</td>\n",
       "      <td>1.798089e-06</td>\n",
       "      <td>True</td>\n",
       "    </tr>\n",
       "    <tr>\n",
       "      <th>4</th>\n",
       "      <td>(connect, learn)</td>\n",
       "      <td>1.329287e-04</td>\n",
       "      <td>1.329287e-03</td>\n",
       "      <td>True</td>\n",
       "    </tr>\n",
       "    <tr>\n",
       "      <th>5</th>\n",
       "      <td>(connect, help)</td>\n",
       "      <td>6.144184e-02</td>\n",
       "      <td>6.144184e-01</td>\n",
       "      <td>False</td>\n",
       "    </tr>\n",
       "    <tr>\n",
       "      <th>6</th>\n",
       "      <td>(connect, services)</td>\n",
       "      <td>1.000000e+00</td>\n",
       "      <td>1.000000e+00</td>\n",
       "      <td>False</td>\n",
       "    </tr>\n",
       "    <tr>\n",
       "      <th>7</th>\n",
       "      <td>(learn, help)</td>\n",
       "      <td>5.089582e-02</td>\n",
       "      <td>5.089582e-01</td>\n",
       "      <td>False</td>\n",
       "    </tr>\n",
       "    <tr>\n",
       "      <th>8</th>\n",
       "      <td>(learn, services)</td>\n",
       "      <td>2.037404e-04</td>\n",
       "      <td>2.037404e-03</td>\n",
       "      <td>True</td>\n",
       "    </tr>\n",
       "    <tr>\n",
       "      <th>9</th>\n",
       "      <td>(help, services)</td>\n",
       "      <td>7.301999e-02</td>\n",
       "      <td>7.301999e-01</td>\n",
       "      <td>False</td>\n",
       "    </tr>\n",
       "  </tbody>\n",
       "</table>\n",
       "</div>"
      ],
      "text/plain": [
       "           combinations  original_pvalue  correted_pvalue  reject\n",
       "0   (interact, connect)     5.367677e-08     5.367677e-07    True\n",
       "1     (interact, learn)     7.616981e-01     1.000000e+00   False\n",
       "2      (interact, help)     3.103059e-03     3.103059e-02    True\n",
       "3  (interact, services)     1.798089e-07     1.798089e-06    True\n",
       "4      (connect, learn)     1.329287e-04     1.329287e-03    True\n",
       "5       (connect, help)     6.144184e-02     6.144184e-01   False\n",
       "6   (connect, services)     1.000000e+00     1.000000e+00   False\n",
       "7         (learn, help)     5.089582e-02     5.089582e-01   False\n",
       "8     (learn, services)     2.037404e-04     2.037404e-03    True\n",
       "9      (help, services)     7.301999e-02     7.301999e-01   False"
      ]
     },
     "execution_count": 15,
     "metadata": {},
     "output_type": "execute_result"
    }
   ],
   "source": [
    "frame = {'combinations': all_combinations,\n",
    "         'original_pvalue': p_values,\n",
    "         'correted_pvalue': corret_p_values,\n",
    "         'reject': reject_list}\n",
    "\n",
    "# tabela com os p-valores originais e corrigidos de todas as combinações\n",
    "pd.DataFrame(frame)"
   ]
  },
  {
   "cell_type": "markdown",
   "id": "944cae61-f26a-4732-b435-99456c7abce9",
   "metadata": {},
   "source": [
    "Há diferença significativa entre a página atual (Interact) e as páginas:\n",
    "- Connect\n",
    "- Help\n",
    "- Services"
   ]
  },
  {
   "cell_type": "markdown",
   "id": "0629e93a-bf7b-45a8-9bdb-af5ba11073eb",
   "metadata": {},
   "source": [
    "Porém, comparando as variantes que apresentaram diferença, vemos que não há diferença significativa entre as variantes.\n",
    "\n",
    "Assim, a recomendação para mudança da página segue a ordem de maior conversão e menor p-valor:\n",
    "\n",
    "- Connect\n",
    "- Services\n",
    "- Help"
   ]
  }
 ],
 "metadata": {
  "kernelspec": {
   "display_name": "Python 3 (ipykernel)",
   "language": "python",
   "name": "python3"
  },
  "language_info": {
   "codemirror_mode": {
    "name": "ipython",
    "version": 3
   },
   "file_extension": ".py",
   "mimetype": "text/x-python",
   "name": "python",
   "nbconvert_exporter": "python",
   "pygments_lexer": "ipython3",
   "version": "3.8.16"
  }
 },
 "nbformat": 4,
 "nbformat_minor": 5
}
