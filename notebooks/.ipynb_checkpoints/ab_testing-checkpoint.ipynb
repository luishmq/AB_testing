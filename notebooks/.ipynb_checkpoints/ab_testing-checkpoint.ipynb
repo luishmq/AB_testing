{
 "cells": [
  {
   "cell_type": "markdown",
   "id": "b44ed07d-8628-48b5-a5c7-0d089ec613a9",
   "metadata": {},
   "source": [
    "# 0.0 Imports"
   ]
  },
  {
   "cell_type": "code",
   "execution_count": 37,
   "id": "56e551cc-5f78-4b83-98fd-40f8bf11e504",
   "metadata": {},
   "outputs": [],
   "source": [
    "import pandas as pd\n",
    "import numpy as np\n",
    "import math\n",
    "\n",
    "from statsmodels.stats import api as sm\n",
    "from scipy.stats import chi2_contingency"
   ]
  },
  {
   "cell_type": "markdown",
   "id": "dd816305-de6f-4b8b-a063-53266980007d",
   "metadata": {},
   "source": [
    "## 0.1 Loading data"
   ]
  },
  {
   "cell_type": "code",
   "execution_count": 2,
   "id": "f5be7546-8ef0-461c-a3a6-b7d6ab4deb41",
   "metadata": {},
   "outputs": [],
   "source": [
    "df_raw = pd.read_csv('../data/ab_testing.crdownload')"
   ]
  },
  {
   "cell_type": "code",
   "execution_count": 25,
   "id": "612e07f4-5981-41f6-b784-059741f2f3c4",
   "metadata": {},
   "outputs": [
    {
     "data": {
      "text/html": [
       "<div>\n",
       "<style scoped>\n",
       "    .dataframe tbody tr th:only-of-type {\n",
       "        vertical-align: middle;\n",
       "    }\n",
       "\n",
       "    .dataframe tbody tr th {\n",
       "        vertical-align: top;\n",
       "    }\n",
       "\n",
       "    .dataframe thead th {\n",
       "        text-align: right;\n",
       "    }\n",
       "</style>\n",
       "<table border=\"1\" class=\"dataframe\">\n",
       "  <thead>\n",
       "    <tr style=\"text-align: right;\">\n",
       "      <th></th>\n",
       "      <th>uid</th>\n",
       "      <th>country</th>\n",
       "      <th>gender</th>\n",
       "      <th>spent</th>\n",
       "      <th>purchases</th>\n",
       "      <th>date</th>\n",
       "      <th>group</th>\n",
       "      <th>device</th>\n",
       "    </tr>\n",
       "  </thead>\n",
       "  <tbody>\n",
       "    <tr>\n",
       "      <th>0</th>\n",
       "      <td>11115722</td>\n",
       "      <td>MEX</td>\n",
       "      <td>F</td>\n",
       "      <td>1595.0</td>\n",
       "      <td>5.0</td>\n",
       "      <td>2016-03-08</td>\n",
       "      <td>GRP B</td>\n",
       "      <td>I</td>\n",
       "    </tr>\n",
       "    <tr>\n",
       "      <th>1</th>\n",
       "      <td>11122053</td>\n",
       "      <td>USA</td>\n",
       "      <td>M</td>\n",
       "      <td>498.0</td>\n",
       "      <td>2.0</td>\n",
       "      <td>2017-07-14</td>\n",
       "      <td>GRP B</td>\n",
       "      <td>I</td>\n",
       "    </tr>\n",
       "    <tr>\n",
       "      <th>2</th>\n",
       "      <td>11128688</td>\n",
       "      <td>USA</td>\n",
       "      <td>F</td>\n",
       "      <td>2394.0</td>\n",
       "      <td>6.0</td>\n",
       "      <td>2017-09-17</td>\n",
       "      <td>GRP A</td>\n",
       "      <td>I</td>\n",
       "    </tr>\n",
       "    <tr>\n",
       "      <th>3</th>\n",
       "      <td>11130578</td>\n",
       "      <td>USA</td>\n",
       "      <td>F</td>\n",
       "      <td>1197.0</td>\n",
       "      <td>3.0</td>\n",
       "      <td>2017-11-30</td>\n",
       "      <td>GRP A</td>\n",
       "      <td>I</td>\n",
       "    </tr>\n",
       "    <tr>\n",
       "      <th>4</th>\n",
       "      <td>11130759</td>\n",
       "      <td>ESP</td>\n",
       "      <td>M</td>\n",
       "      <td>1297.0</td>\n",
       "      <td>3.0</td>\n",
       "      <td>2018-01-10</td>\n",
       "      <td>GRP B</td>\n",
       "      <td>A</td>\n",
       "    </tr>\n",
       "  </tbody>\n",
       "</table>\n",
       "</div>"
      ],
      "text/plain": [
       "        uid country gender   spent  purchases        date  group device\n",
       "0  11115722     MEX      F  1595.0        5.0  2016-03-08  GRP B      I\n",
       "1  11122053     USA      M   498.0        2.0  2017-07-14  GRP B      I\n",
       "2  11128688     USA      F  2394.0        6.0  2017-09-17  GRP A      I\n",
       "3  11130578     USA      F  1197.0        3.0  2017-11-30  GRP A      I\n",
       "4  11130759     ESP      M  1297.0        3.0  2018-01-10  GRP B      A"
      ]
     },
     "execution_count": 25,
     "metadata": {},
     "output_type": "execute_result"
    }
   ],
   "source": [
    "df_raw.head()"
   ]
  },
  {
   "cell_type": "markdown",
   "id": "670e8d9b-dd9c-4141-bd73-2a278c82f8bf",
   "metadata": {},
   "source": [
    "# 1.0 Data Description"
   ]
  },
  {
   "cell_type": "code",
   "execution_count": 6,
   "id": "be201ccb-243e-4649-9d08-cda23a672d25",
   "metadata": {},
   "outputs": [],
   "source": [
    "df1 = df_raw.copy()"
   ]
  },
  {
   "cell_type": "markdown",
   "id": "51e617ce-5c56-44ee-81e1-2398b916e456",
   "metadata": {},
   "source": [
    "## 1.1 Data Dimensions"
   ]
  },
  {
   "cell_type": "code",
   "execution_count": 8,
   "id": "f7f84d0b-d35e-4cb1-9c9d-a4757970d3ba",
   "metadata": {},
   "outputs": [
    {
     "name": "stdout",
     "output_type": "stream",
     "text": [
      "Número de linhas: 25230\n",
      "Número de colunas: 8\n"
     ]
    }
   ],
   "source": [
    "print(\"Número de linhas: {}\".format(df1.shape[0]))\n",
    "print(\"Número de colunas: {}\".format(df1.shape[1]))"
   ]
  },
  {
   "cell_type": "markdown",
   "id": "b3cc3ed6-9437-4891-9254-5528c8089d7a",
   "metadata": {},
   "source": [
    "## 1.2 Data Types"
   ]
  },
  {
   "cell_type": "code",
   "execution_count": 26,
   "id": "c0c96f83-4523-4861-8187-24993084b6d4",
   "metadata": {},
   "outputs": [
    {
     "data": {
      "text/plain": [
       "uid                   int64\n",
       "country              object\n",
       "gender               object\n",
       "spent               float64\n",
       "purchases             int64\n",
       "date         datetime64[ns]\n",
       "group                object\n",
       "device               object\n",
       "dtype: object"
      ]
     },
     "execution_count": 26,
     "metadata": {},
     "output_type": "execute_result"
    }
   ],
   "source": [
    "df1.dtypes"
   ]
  },
  {
   "cell_type": "markdown",
   "id": "8ee500fb-1717-4746-a0bf-633353a34f0d",
   "metadata": {},
   "source": [
    "## 1.3 Check NA"
   ]
  },
  {
   "cell_type": "code",
   "execution_count": 10,
   "id": "64cffd84-c8cd-47da-b3cf-76982f6512a3",
   "metadata": {},
   "outputs": [
    {
     "data": {
      "text/plain": [
       "uid          0\n",
       "country      1\n",
       "gender       1\n",
       "spent        1\n",
       "purchases    1\n",
       "date         1\n",
       "group        1\n",
       "device       1\n",
       "dtype: int64"
      ]
     },
     "execution_count": 10,
     "metadata": {},
     "output_type": "execute_result"
    }
   ],
   "source": [
    "df1.isna().sum()"
   ]
  },
  {
   "cell_type": "markdown",
   "id": "7049114e-6695-4068-86ac-697ca2304223",
   "metadata": {},
   "source": [
    "## 1.4 Drop NA"
   ]
  },
  {
   "cell_type": "code",
   "execution_count": 17,
   "id": "e25e5493-14ec-498e-add5-ab902d6a690f",
   "metadata": {},
   "outputs": [],
   "source": [
    "# Droping little NA data\n",
    "df1 = df1.dropna()"
   ]
  },
  {
   "cell_type": "markdown",
   "id": "f9877066-8385-490e-b910-2450f53be59b",
   "metadata": {},
   "source": [
    "## 1.5 Change Types"
   ]
  },
  {
   "cell_type": "code",
   "execution_count": 30,
   "id": "4071cd9e-eb2c-4077-b04d-d2f8713bccf5",
   "metadata": {},
   "outputs": [],
   "source": [
    "# Changing purchases to int64\n",
    "df1['purchases'] = df1['purchases'].astype(int)\n",
    "\n",
    "# Changing date to datetime\n",
    "df1['date'] = pd.to_datetime(df1['date'])\n",
    "\n",
    "# Changing spent to int64\n",
    "df1['spent'] = df1['spent'].astype(int)"
   ]
  },
  {
   "cell_type": "markdown",
   "id": "9abf39d6-e2bb-4479-8bba-df8bcc9143b2",
   "metadata": {},
   "source": [
    "## 1.6 Checking"
   ]
  },
  {
   "cell_type": "code",
   "execution_count": 34,
   "id": "ce17bacc-a3bb-4542-bdc1-e7736622f981",
   "metadata": {},
   "outputs": [
    {
     "data": {
      "text/plain": [
       "uid          0\n",
       "country      0\n",
       "gender       0\n",
       "spent        0\n",
       "purchases    0\n",
       "date         0\n",
       "group        0\n",
       "device       0\n",
       "dtype: int64"
      ]
     },
     "execution_count": 34,
     "metadata": {},
     "output_type": "execute_result"
    }
   ],
   "source": [
    "df1.isna().sum()"
   ]
  },
  {
   "cell_type": "markdown",
   "id": "bfbd6967-201e-4918-a12d-d100925487e1",
   "metadata": {},
   "source": [
    "# 2.0 Design de experimentos "
   ]
  },
  {
   "cell_type": "markdown",
   "id": "d4db95e7-b78c-4cca-8dae-0a59a55e2049",
   "metadata": {},
   "source": [
    "## 2.1 Formulação da hipótese"
   ]
  },
  {
   "cell_type": "code",
   "execution_count": null,
   "id": "0d9f1336-6d5d-4a21-9082-48cb72b38ab2",
   "metadata": {},
   "outputs": [],
   "source": []
  },
  {
   "cell_type": "markdown",
   "id": "1f1f79ae-d253-4064-8aeb-d7a7cbf4bbea",
   "metadata": {},
   "source": [
    "## 2.2 Parâmetros do experimento"
   ]
  },
  {
   "cell_type": "code",
   "execution_count": 38,
   "id": "4e302e0c-fdd7-4497-a359-75dc4e4b3a91",
   "metadata": {},
   "outputs": [],
   "source": [
    "# Nível de confiança\n",
    "confidence = 0.95\n",
    "\n",
    "# Limite de significância\n",
    "significance = 0.05\n",
    "\n",
    "# conversões da página nova e página atual\n",
    "p1 = 0.15\n",
    "p2 = 0.13\n",
    "\n",
    "# tamanho do efeito\n",
    "effect_size = sm.proportion_effectsize(p1, p2)\n",
    "\n",
    "# poder estatístico\n",
    "power = 0.80"
   ]
  },
  {
   "cell_type": "code",
   "execution_count": 40,
   "id": "5dc310f2-7646-4e0b-b428-2ccf4ab93123",
   "metadata": {},
   "outputs": [
    {
     "data": {
      "text/plain": [
       "4720"
      ]
     },
     "execution_count": 40,
     "metadata": {},
     "output_type": "execute_result"
    }
   ],
   "source": [
    "# sample size\n",
    "sample_n = math.ceil(sm.NormalIndPower().solve_power(\n",
    "    effect_size,\n",
    "    power=power,\n",
    "    alpha=significance\n",
    "))\n",
    "sample_n"
   ]
  }
 ],
 "metadata": {
  "kernelspec": {
   "display_name": "Python 3 (ipykernel)",
   "language": "python",
   "name": "python3"
  },
  "language_info": {
   "codemirror_mode": {
    "name": "ipython",
    "version": 3
   },
   "file_extension": ".py",
   "mimetype": "text/x-python",
   "name": "python",
   "nbconvert_exporter": "python",
   "pygments_lexer": "ipython3",
   "version": "3.8.13"
  }
 },
 "nbformat": 4,
 "nbformat_minor": 5
}
